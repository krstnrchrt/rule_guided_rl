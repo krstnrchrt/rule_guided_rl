{
 "cells": [
  {
   "cell_type": "code",
   "execution_count": 11,
   "id": "f4b15735-330f-4059-ae00-cc2c3e47e874",
   "metadata": {},
   "outputs": [],
   "source": [
    "import pandas as pd"
   ]
  },
  {
   "cell_type": "code",
   "execution_count": 12,
   "id": "4af9a966-ab31-4df6-b21e-ed698e958142",
   "metadata": {},
   "outputs": [],
   "source": [
    "# Replace with your real CSV filename:\n",
    "input_csv = \"DEplain-APA-sent/all.csv\"\n",
    "output_txt = \"master_data/0_original/all.txt\"\n"
   ]
  },
  {
   "cell_type": "code",
   "execution_count": 13,
   "id": "6f1fe8ba-6357-43fe-8e80-8023f7d43a46",
   "metadata": {},
   "outputs": [],
   "source": [
    "# Load the CSV\n",
    "input_df = pd.read_csv(input_csv)\n",
    "\n",
    "# Extract the 'original' column, dropping any missing values\n",
    "sentences = input_df['original'].dropna().astype(str)"
   ]
  },
  {
   "cell_type": "code",
   "execution_count": 14,
   "id": "5b593fe9-51dd-4888-9b76-5904ba1d435a",
   "metadata": {},
   "outputs": [
    {
     "data": {
      "text/plain": [
       "0        Am Mittwoch hat der Iran bekanntgegeben, dass ...\n",
       "1        Die Präsidentin der EU-Kommission, Ursula von ...\n",
       "2        So sollen die Treibhaus-Gase in der EU bis zum...\n",
       "3        In den letzten 29 Jahren schaffte man eine Ver...\n",
       "4          Für das neue Ziel bleiben weniger als 10 Jahre.\n",
       "                               ...                        \n",
       "13117    Der Österreicher Adi Hütter ist Trainer von Ei...\n",
       "13118    Er wechselt nach dem Saisonende zu Borussia Mö...\n",
       "13119    Hütter unterschreibt einen Vertrag bis zum Jah...\n",
       "13120    Für Hütter muss Borussia Mönchengladbach auch ...\n",
       "13121    In deutschen Zeitungen wird mit einer Summe vo...\n",
       "Name: original, Length: 13122, dtype: object"
      ]
     },
     "execution_count": 14,
     "metadata": {},
     "output_type": "execute_result"
    }
   ],
   "source": [
    "sentences"
   ]
  },
  {
   "cell_type": "code",
   "execution_count": 15,
   "id": "a83eae6a-1a0a-429c-8a01-4443e413f424",
   "metadata": {},
   "outputs": [],
   "source": [
    "# Write to a .txt file, one sentence per line\n",
    "with open(output_txt, \"w\", encoding=\"utf-8\") as f:\n",
    "    for sentence in sentences:\n",
    "        f.write(sentence.strip() + \"\\n\")\n",
    "\n",
    "#print(f\"Done! Wrote {len(sentences)} lines to {output_txt}\")"
   ]
  },
  {
   "cell_type": "code",
   "execution_count": null,
   "id": "0dc8182f-1f7d-4a30-9785-5f0f8ea30502",
   "metadata": {},
   "outputs": [],
   "source": []
  }
 ],
 "metadata": {
  "kernelspec": {
   "display_name": "im_env",
   "language": "python",
   "name": "im_env"
  },
  "language_info": {
   "codemirror_mode": {
    "name": "ipython",
    "version": 3
   },
   "file_extension": ".py",
   "mimetype": "text/x-python",
   "name": "python",
   "nbconvert_exporter": "python",
   "pygments_lexer": "ipython3",
   "version": "3.8.16"
  }
 },
 "nbformat": 4,
 "nbformat_minor": 5
}
