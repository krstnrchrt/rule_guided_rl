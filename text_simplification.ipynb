{
 "cells": [
  {
   "cell_type": "code",
   "execution_count": null,
   "id": "fbb0069a",
   "metadata": {},
   "outputs": [],
   "source": [
    "# 1. Imports\n",
    "import os\n",
    "import importlib\n",
    "from text_simpl_utils import *\n",
    "import text_simpl_utils\n",
    "importlib.reload(text_simpl_utils)\n",
    "import simplifier_pipeline\n",
    "importlib.reload(simplifier_pipeline)\n",
    "from simplifier_pipeline import *"
   ]
  },
  {
   "cell_type": "code",
   "execution_count": null,
   "id": "467f5e6e",
   "metadata": {},
   "outputs": [],
   "source": [
    "#disable detailed logging for master implementation\n",
    "logging.disable(logging.CRITICAL)"
   ]
  },
  {
   "cell_type": "code",
   "execution_count": null,
   "id": "b3d28ebb",
   "metadata": {},
   "outputs": [],
   "source": [
    "# # 2. Set folder paths\n",
    "#INPUT_DIR = \"preprocessed_texts/apa-rst/2_parse_tokenize\"\n",
    "#OUTPUT_DIR = \"preprocessed_texts/apa-rst/3_simplified\"\n",
    "\n",
    "# 2. Set folder paths\n",
    "INPUT_DIR = \"master_data/2_parse_tokenize\"\n",
    "OUTPUT_DIR = \"master_data/3_simplified\"\n",
    "\n",
    "os.makedirs(OUTPUT_DIR, exist_ok=True)\n",
    "\n",
    "for filename in os.listdir(INPUT_DIR):\n",
    "    if filename.endswith(\".txt\"):\n",
    "        with open(os.path.join(INPUT_DIR, filename), \"r\", encoding=\"utf-8\") as f:\n",
    "            lines = f.readlines()\n",
    "            \n",
    "        #short_sentence = lines[:52]\n",
    "        #long_sentence = lines[174:195]\n",
    "        \n",
    "        #lines = short_sentence \n",
    "        #lines = long_sentence\n",
    "        \n",
    "        sp = SimplifierPipeline()\n",
    "        result = sp.simplify_from_lines(lines, doc_name=filename)\n",
    "\n",
    "        out_name_conll = filename.replace(\"_parsed\", \"_simplified_conll\")\n",
    "        out_name_plain = filename.replace(\"_parsed\", \"_simplified_plain\")\n",
    "\n",
    "        with open(os.path.join(OUTPUT_DIR, out_name_conll), \"w\", encoding=\"utf-8\") as f:\n",
    "            f.write(result[\"conll\"])\n",
    "        with open(os.path.join(OUTPUT_DIR, out_name_plain), \"w\", encoding=\"utf-8\") as f:\n",
    "            f.write(result[\"plain\"])\n",
    "\n",
    "        # with open(os.path.join(OUTPUT_DIR, out_name), \"w\", encoding=\"utf-8\") as f:\n",
    "        #     f.write(result)\n",
    "            "
   ]
  },
  {
   "cell_type": "markdown",
   "id": "e25d7496",
   "metadata": {},
   "source": [
    "#input - original sentence\n",
    "#output - all child sentences\n",
    "#output - rule applied or not applied"
   ]
  }
 ],
 "metadata": {
  "kernelspec": {
   "display_name": "im_env",
   "language": "python",
   "name": "python3"
  },
  "language_info": {
   "codemirror_mode": {
    "name": "ipython",
    "version": 3
   },
   "file_extension": ".py",
   "mimetype": "text/x-python",
   "name": "python",
   "nbconvert_exporter": "python",
   "pygments_lexer": "ipython3",
   "version": "3.8.16"
  }
 },
 "nbformat": 4,
 "nbformat_minor": 5
}
