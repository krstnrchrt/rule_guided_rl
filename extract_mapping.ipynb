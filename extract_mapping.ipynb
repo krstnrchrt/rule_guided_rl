{
 "cells": [
  {
   "cell_type": "code",
   "execution_count": 1,
   "id": "ac0143f8-cc4c-4e3e-bdde-29fb920b62b7",
   "metadata": {},
   "outputs": [],
   "source": [
    "import pandas as pd"
   ]
  },
  {
   "cell_type": "code",
   "execution_count": 2,
   "id": "8caeb68f-aa07-4f21-951f-57dc2823d7d8",
   "metadata": {},
   "outputs": [],
   "source": [
    "log = \"simplification_logs/all_parsed_log_2025-08-18_14-15-49.csv\""
   ]
  },
  {
   "cell_type": "code",
   "execution_count": 3,
   "id": "1c53cda5-9ed8-465c-9cac-53b4221e0fe6",
   "metadata": {},
   "outputs": [
    {
     "data": {
      "text/html": [
       "<div>\n",
       "<style scoped>\n",
       "    .dataframe tbody tr th:only-of-type {\n",
       "        vertical-align: middle;\n",
       "    }\n",
       "\n",
       "    .dataframe tbody tr th {\n",
       "        vertical-align: top;\n",
       "    }\n",
       "\n",
       "    .dataframe thead th {\n",
       "        text-align: right;\n",
       "    }\n",
       "</style>\n",
       "<table border=\"1\" class=\"dataframe\">\n",
       "  <thead>\n",
       "    <tr style=\"text-align: right;\">\n",
       "      <th></th>\n",
       "      <th>uid</th>\n",
       "      <th>original</th>\n",
       "      <th>rule</th>\n",
       "      <th>applied</th>\n",
       "      <th>simplified</th>\n",
       "      <th>doc_name</th>\n",
       "    </tr>\n",
       "  </thead>\n",
       "  <tbody>\n",
       "    <tr>\n",
       "      <th>0</th>\n",
       "      <td>1</td>\n",
       "      <td>Mittwoch</td>\n",
       "      <td>split_compound</td>\n",
       "      <td>False</td>\n",
       "      <td>Mittwoch</td>\n",
       "      <td>all_parsed.txt</td>\n",
       "    </tr>\n",
       "    <tr>\n",
       "      <th>1</th>\n",
       "      <td>1</td>\n",
       "      <td>Atom-Abkommen</td>\n",
       "      <td>split_compound</td>\n",
       "      <td>True</td>\n",
       "      <td>Atom·Abkommen</td>\n",
       "      <td>all_parsed.txt</td>\n",
       "    </tr>\n",
       "    <tr>\n",
       "      <th>2</th>\n",
       "      <td>1</td>\n",
       "      <td>Am Mittwoch hat der Iran bekanntgegeben , dass...</td>\n",
       "      <td>clean_punctuation</td>\n",
       "      <td>False</td>\n",
       "      <td>Am Mittwoch hat der Iran bekanntgegeben , dass...</td>\n",
       "      <td>all_parsed.txt</td>\n",
       "    </tr>\n",
       "    <tr>\n",
       "      <th>3</th>\n",
       "      <td>1</td>\n",
       "      <td>Am Mittwoch hat der Iran bekanntgegeben , dass...</td>\n",
       "      <td>rewrite_apposition</td>\n",
       "      <td>False</td>\n",
       "      <td>Am Mittwoch hat der Iran bekanntgegeben , dass...</td>\n",
       "      <td>all_parsed.txt</td>\n",
       "    </tr>\n",
       "    <tr>\n",
       "      <th>4</th>\n",
       "      <td>1</td>\n",
       "      <td>Am Mittwoch hat der Iran bekanntgegeben , dass...</td>\n",
       "      <td>simplify_subordinate</td>\n",
       "      <td>False</td>\n",
       "      <td>Am Mittwoch hat der Iran bekanntgegeben , dass...</td>\n",
       "      <td>all_parsed.txt</td>\n",
       "    </tr>\n",
       "  </tbody>\n",
       "</table>\n",
       "</div>"
      ],
      "text/plain": [
       "   uid                                           original  \\\n",
       "0    1                                           Mittwoch   \n",
       "1    1                                      Atom-Abkommen   \n",
       "2    1  Am Mittwoch hat der Iran bekanntgegeben , dass...   \n",
       "3    1  Am Mittwoch hat der Iran bekanntgegeben , dass...   \n",
       "4    1  Am Mittwoch hat der Iran bekanntgegeben , dass...   \n",
       "\n",
       "                   rule  applied  \\\n",
       "0        split_compound    False   \n",
       "1        split_compound     True   \n",
       "2     clean_punctuation    False   \n",
       "3    rewrite_apposition    False   \n",
       "4  simplify_subordinate    False   \n",
       "\n",
       "                                          simplified        doc_name  \n",
       "0                                           Mittwoch  all_parsed.txt  \n",
       "1                                      Atom·Abkommen  all_parsed.txt  \n",
       "2  Am Mittwoch hat der Iran bekanntgegeben , dass...  all_parsed.txt  \n",
       "3  Am Mittwoch hat der Iran bekanntgegeben , dass...  all_parsed.txt  \n",
       "4  Am Mittwoch hat der Iran bekanntgegeben , dass...  all_parsed.txt  "
      ]
     },
     "execution_count": 3,
     "metadata": {},
     "output_type": "execute_result"
    }
   ],
   "source": [
    "# Load your CSV file\n",
    "df = pd.read_csv(log) \n",
    "df.head()"
   ]
  },
  {
   "cell_type": "code",
   "execution_count": 4,
   "id": "791c707f-e3ba-459e-97ec-9cfd12185ed2",
   "metadata": {},
   "outputs": [],
   "source": [
    "def get_rule_applied_for_uid(uid):\n",
    "    group = df[df['uid'] == uid]\n",
    "    # Build the dict: rule -> applied\n",
    "    rule_applied = dict(zip(group['rule'], group['applied']))\n",
    "    return rule_applied\n",
    "\n",
    "def get_uid_for_original(original_sentence):\n",
    "    # Find rows where 'original' matches the input\n",
    "    matches = df[df['original'] == original_sentence]\n",
    "    # Get the unique uids as a list (there may be more than one in rare cases)\n",
    "    uids = matches['uid'].unique().tolist()[0]\n",
    "    return uids"
   ]
  },
  {
   "cell_type": "code",
   "execution_count": 5,
   "id": "4fad6434-323c-46f1-ac19-5af3a438e6c1",
   "metadata": {},
   "outputs": [],
   "source": [
    "# Create a mapping from each unique original to its list of simplifications\n",
    "result = (\n",
    "    df.groupby(['uid', 'original'])['simplified']\n",
    "      .apply(list)\n",
    "      .reset_index()\n",
    ")\n",
    "\n",
    "# To get the mapping as a dictionary:\n",
    "original_to_simplified = dict(zip(result['original'], result['simplified']))\n",
    "\n",
    "\"\"\"\n",
    "# Example: print all\n",
    "for orig, simps in original_to_simplified.items():\n",
    "    print(\"Original:\", orig)\n",
    "    print(\"Simplified versions:\", simps)\n",
    "    print()\n",
    "\"\"\"\n",
    "\n",
    "def get_simplified_for_original(original):\n",
    "    simpl_list = original_to_simplified.get(original, [])\n",
    "    # Filter rows where 'original' matches AND 'applied' is True\n",
    "    #simpl_list_rule_true = df[(df['original'] == original) & (df['applied'] == True)]\n",
    "    # Get the simplified sentences as a list (no duplicates)\n",
    "    unique_simpl_list = list(dict.fromkeys(simpl_list))\n",
    "    return unique_simpl_list"
   ]
  },
  {
   "cell_type": "code",
   "execution_count": 6,
   "id": "4430fd72-faeb-4889-b809-b6c929b3ef37",
   "metadata": {},
   "outputs": [
    {
     "name": "stdout",
     "output_type": "stream",
     "text": [
      "Mittwoch\n"
     ]
    }
   ],
   "source": [
    "original = df['original'][0]\n",
    "print (original)"
   ]
  },
  {
   "cell_type": "code",
   "execution_count": 7,
   "id": "562f50fe-ce03-469d-9222-c967f30e6c56",
   "metadata": {},
   "outputs": [],
   "source": [
    "#todo: validation step missing if input is a simplified sentence instead of a original sentence"
   ]
  },
  {
   "cell_type": "code",
   "execution_count": 8,
   "id": "c5419c39-e641-496a-969e-1376f30a7230",
   "metadata": {},
   "outputs": [
    {
     "data": {
      "text/plain": [
       "['Mittwoch']"
      ]
     },
     "execution_count": 8,
     "metadata": {},
     "output_type": "execute_result"
    }
   ],
   "source": [
    "simplified_list  = get_simplified_for_original(original)\n",
    "simplified_list"
   ]
  },
  {
   "cell_type": "code",
   "execution_count": 9,
   "id": "993971ed-31a4-4177-b70c-5ced0a735fa7",
   "metadata": {},
   "outputs": [
    {
     "name": "stdout",
     "output_type": "stream",
     "text": [
      "{'split_compound': True, 'clean_punctuation': False, 'rewrite_apposition': False, 'simplify_subordinate': False, 'convert_passive_to_active': False, 'normalize_verb_tense': False}\n"
     ]
    }
   ],
   "source": [
    "uid_input = get_uid_for_original(original)\n",
    "rule_dict = get_rule_applied_for_uid(uid_input)\n",
    "print(rule_dict)"
   ]
  },
  {
   "cell_type": "code",
   "execution_count": null,
   "id": "fc8e6aec-06e3-4b0e-b3d1-fa56cd0d48e1",
   "metadata": {},
   "outputs": [],
   "source": []
  },
  {
   "cell_type": "code",
   "execution_count": null,
   "id": "7239df61-170b-4854-b547-c57d8c3e606f",
   "metadata": {},
   "outputs": [],
   "source": []
  }
 ],
 "metadata": {
  "kernelspec": {
   "display_name": "im_env",
   "language": "python",
   "name": "python3"
  },
  "language_info": {
   "codemirror_mode": {
    "name": "ipython",
    "version": 3
   },
   "file_extension": ".py",
   "mimetype": "text/x-python",
   "name": "python",
   "nbconvert_exporter": "python",
   "pygments_lexer": "ipython3",
   "version": "3.8.16"
  }
 },
 "nbformat": 4,
 "nbformat_minor": 5
}
