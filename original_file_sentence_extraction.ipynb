{
 "cells": [
  {
   "cell_type": "code",
   "execution_count": 9,
   "id": "f4b15735-330f-4059-ae00-cc2c3e47e874",
   "metadata": {},
   "outputs": [],
   "source": [
    "import pandas as pd"
   ]
  },
  {
   "cell_type": "code",
   "execution_count": 10,
   "id": "4af9a966-ab31-4df6-b21e-ed698e958142",
   "metadata": {},
   "outputs": [],
   "source": [
    "# Replace with your real CSV filename:\n",
    "input_csv = \"master_data/all.csv\"\n",
    "output_txt = \"master_data/0_original/all_a2.txt\"\n"
   ]
  },
  {
   "cell_type": "code",
   "execution_count": 11,
   "id": "c89729c7",
   "metadata": {},
   "outputs": [],
   "source": [
    "# Load the CSV\n",
    "input_df = pd.read_csv(input_csv)"
   ]
  },
  {
   "cell_type": "code",
   "execution_count": 12,
   "id": "6f1fe8ba-6357-43fe-8e80-8023f7d43a46",
   "metadata": {},
   "outputs": [],
   "source": [
    "# Extract the 'original' column, dropping any missing values\n",
    "\n",
    "#Now, extract the 'simplification' column instead of 'original' to apply deterministic rule pipeline on A2 level sentences\n",
    "sentences = input_df['simplification'].dropna().astype(str)"
   ]
  },
  {
   "cell_type": "code",
   "execution_count": 13,
   "id": "5b593fe9-51dd-4888-9b76-5904ba1d435a",
   "metadata": {},
   "outputs": [
    {
     "data": {
      "text/plain": [
       "0        Der Iran wird teilweise aus dem Atom-Abkommen ...\n",
       "1        Brüssel Ursula von der Leyen ist die Präsident...\n",
       "2        Bis zum Jahr 2030 soll es in der EU um 55 Proz...\n",
       "3        Das ist sehr viel, denn in den letzten 29 Jahr...\n",
       "4        Für das neue Ziel bleiben aber weniger als 10 ...\n",
       "                               ...                        \n",
       "13117    Frankfurt am Main/ Mönchengladbach Adi Hütter ...\n",
       "13118    Hütter wird aber mit Saison-Ende in der deutsc...\n",
       "13119    Er unterschreibt dort einen Vertrag bis zum Ja...\n",
       "13120    Für Hütter muss Mönchengladbach eine hohe Ablö...\n",
       "13121    Deutsche Zeitungen rechen mit einer Ablöse von...\n",
       "Name: simplification, Length: 13122, dtype: object"
      ]
     },
     "execution_count": 13,
     "metadata": {},
     "output_type": "execute_result"
    }
   ],
   "source": [
    "sentences"
   ]
  },
  {
   "cell_type": "code",
   "execution_count": 14,
   "id": "a83eae6a-1a0a-429c-8a01-4443e413f424",
   "metadata": {},
   "outputs": [],
   "source": [
    "# Write to a .txt file, one sentence per line\n",
    "with open(output_txt, \"w\", encoding=\"utf-8\") as f:\n",
    "    for sentence in sentences:\n",
    "        f.write(sentence.strip() + \"\\n\")"
   ]
  },
  {
   "cell_type": "code",
   "execution_count": 15,
   "id": "0dc8182f-1f7d-4a30-9785-5f0f8ea30502",
   "metadata": {},
   "outputs": [
    {
     "name": "stdout",
     "output_type": "stream",
     "text": [
      "Extracted 13122 lines to master_data/0_original/all_a2.txt\n"
     ]
    }
   ],
   "source": [
    "print(f\"Extracted {len(sentences)} lines to {output_txt}\")"
   ]
  },
  {
   "cell_type": "code",
   "execution_count": null,
   "id": "630d28cf",
   "metadata": {},
   "outputs": [],
   "source": []
  }
 ],
 "metadata": {
  "kernelspec": {
   "display_name": "im_env",
   "language": "python",
   "name": "python3"
  },
  "language_info": {
   "codemirror_mode": {
    "name": "ipython",
    "version": 3
   },
   "file_extension": ".py",
   "mimetype": "text/x-python",
   "name": "python",
   "nbconvert_exporter": "python",
   "pygments_lexer": "ipython3",
   "version": "3.8.16"
  }
 },
 "nbformat": 4,
 "nbformat_minor": 5
}
